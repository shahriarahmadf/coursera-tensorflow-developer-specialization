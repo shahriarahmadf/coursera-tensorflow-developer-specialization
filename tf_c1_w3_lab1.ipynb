{
  "nbformat": 4,
  "nbformat_minor": 0,
  "metadata": {
    "colab": {
      "provenance": []
    },
    "kernelspec": {
      "name": "python3",
      "display_name": "Python 3"
    },
    "language_info": {
      "name": "python"
    }
  },
  "cells": [
    {
      "cell_type": "code",
      "execution_count": null,
      "metadata": {
        "colab": {
          "base_uri": "https://localhost:8080/"
        },
        "id": "6xCg7xBh1Efv",
        "outputId": "2b7544a5-4166-4bb6-dfb7-7a1bcb501917"
      },
      "outputs": [
        {
          "output_type": "stream",
          "name": "stdout",
          "text": [
            "Downloading data from https://storage.googleapis.com/tensorflow/tf-keras-datasets/train-labels-idx1-ubyte.gz\n",
            "29515/29515 [==============================] - 0s 1us/step\n",
            "Downloading data from https://storage.googleapis.com/tensorflow/tf-keras-datasets/train-images-idx3-ubyte.gz\n",
            "26421880/26421880 [==============================] - 2s 0us/step\n",
            "Downloading data from https://storage.googleapis.com/tensorflow/tf-keras-datasets/t10k-labels-idx1-ubyte.gz\n",
            "5148/5148 [==============================] - 0s 0us/step\n",
            "Downloading data from https://storage.googleapis.com/tensorflow/tf-keras-datasets/t10k-images-idx3-ubyte.gz\n",
            "4422102/4422102 [==============================] - 1s 0us/step\n"
          ]
        }
      ],
      "source": [
        "# Shallow Neural Network\n",
        "\n",
        "import tensorflow as tf\n",
        "\n",
        "# Load the Fashion MNIST dataset\n",
        "fmnist = tf.keras.datasets.fashion_mnist\n",
        "(training_images, training_labels), (test_images, test_labels) = fmnist.load_data()\n",
        "\n",
        "# Normalize the pixel values\n",
        "training_images = training_images / 255.0\n",
        "test_images = test_images / 255.0"
      ]
    },
    {
      "cell_type": "code",
      "source": [
        "# Create a callback function\n",
        "\n",
        "class myCallback(tf.keras.callbacks.Callback):\n",
        "  def on_epoch_end(self, epoch, logs={}):\n",
        "    '''\n",
        "    Halts the training when the loss falls below 0.26\n",
        "\n",
        "    Args:\n",
        "      epoch (integer) - index of epoch (required but unused in the function defintion below)\n",
        "      logs (dict) - metric results from the training epoch\n",
        "    '''\n",
        "\n",
        "    # Check the loss\n",
        "    if(logs.get('loss') < 0.26):\n",
        "\n",
        "      # Stop if threshold is met\n",
        "      print(\"\\nLoss is lower than 0.26 so cancelling training!\")\n",
        "      self.model.stop_training = True\n",
        "\n",
        "# Instantiate class\n",
        "callbacks = myCallback()\n"
      ],
      "metadata": {
        "id": "LrRrt-3d0pzj"
      },
      "execution_count": null,
      "outputs": []
    },
    {
      "cell_type": "code",
      "source": [
        "# Define the model\n",
        "model = tf.keras.models.Sequential([\n",
        "    tf.keras.layers.Flatten(),\n",
        "    tf.keras.layers.Dense(128, activation=tf.nn.relu),\n",
        "    tf.keras.layers.Dense(10, activation=tf.nn.softmax)\n",
        "])\n",
        "\n",
        "# Setup training parameters\n",
        "model.compile(optimizer='adam', loss='sparse_categorical_crossentropy', metrics=['accuracy'])\n",
        "\n",
        "# Train the model\n",
        "print(f'\\nMODEL TRAINING:')\n",
        "model.fit(training_images, training_labels, epochs=30, callbacks=[callbacks])\n",
        "\n",
        "# Evaluate on the test set\n",
        "print(f'\\nMODEL EVALUATION:')\n",
        "test_loss = model.evaluate(test_images, test_labels)"
      ],
      "metadata": {
        "colab": {
          "base_uri": "https://localhost:8080/"
        },
        "id": "xoSoAlezbpL7",
        "outputId": "e1208f1c-1143-4255-c661-55601f8b0438"
      },
      "execution_count": null,
      "outputs": [
        {
          "output_type": "stream",
          "name": "stdout",
          "text": [
            "\n",
            "MODEL TRAINING:\n",
            "Epoch 1/30\n",
            "1875/1875 [==============================] - 9s 4ms/step - loss: 0.4989 - accuracy: 0.8248\n",
            "Epoch 2/30\n",
            "1875/1875 [==============================] - 9s 5ms/step - loss: 0.3765 - accuracy: 0.8638\n",
            "Epoch 3/30\n",
            "1875/1875 [==============================] - 8s 4ms/step - loss: 0.3390 - accuracy: 0.8761\n",
            "Epoch 4/30\n",
            "1875/1875 [==============================] - 12s 7ms/step - loss: 0.3144 - accuracy: 0.8850\n",
            "Epoch 5/30\n",
            "1875/1875 [==============================] - 10s 5ms/step - loss: 0.2933 - accuracy: 0.8919\n",
            "Epoch 6/30\n",
            "1875/1875 [==============================] - 7s 4ms/step - loss: 0.2786 - accuracy: 0.8973\n",
            "Epoch 7/30\n",
            "1875/1875 [==============================] - 10s 5ms/step - loss: 0.2684 - accuracy: 0.9002\n",
            "Epoch 8/30\n",
            "1872/1875 [============================>.] - ETA: 0s - loss: 0.2560 - accuracy: 0.9047\n",
            "Loss is lower than 0.26 so cancelling training!\n",
            "1875/1875 [==============================] - 8s 4ms/step - loss: 0.2561 - accuracy: 0.9047\n",
            "\n",
            "MODEL EVALUATION:\n",
            "313/313 [==============================] - 1s 2ms/step - loss: 0.3299 - accuracy: 0.8815\n"
          ]
        }
      ]
    },
    {
      "cell_type": "code",
      "source": [
        "# CNN\n",
        "\n",
        "# Define the model\n",
        "model = tf.keras.models.Sequential([\n",
        "\n",
        "    # Add convolutions and max pooling\n",
        "    tf.keras.layers.Conv2D(32, (3,3), activation='relu', input_shape=(28, 28, 1)),\n",
        "    tf.keras.layers.MaxPooling2D(2, 2),\n",
        "    tf.keras.layers.Conv2D(32, (3,3), activation='relu', input_shape=(28, 28, 1)),\n",
        "    tf.keras.layers.MaxPooling2D(2, 2),\n",
        "    tf.keras.layers.Conv2D(32, (3,3), activation='relu', input_shape=(28, 28, 1)),\n",
        "    tf.keras.layers.MaxPooling2D(2, 2),\n",
        "\n",
        "    # Add the same layers as before\n",
        "    tf.keras.layers.Flatten(),\n",
        "    tf.keras.layers.Dense(128, activation='relu'),\n",
        "    tf.keras.layers.Dense(10, activation='softmax')\n",
        "])\n",
        "\n",
        "# Setup training parameters\n",
        "model.compile(optimizer='adam', loss='sparse_categorical_crossentropy', metrics=['accuracy'])\n",
        "\n",
        "# Train the model\n",
        "print(f'\\nMODEL TRAINING:')\n",
        "model.fit(training_images, training_labels, epochs=30, callbacks=[callbacks])\n",
        "\n",
        "# Evaluate on the test set\n",
        "print(f'\\nMODEL EVALUATION:')\n",
        "test_loss = model.evaluate(test_images, test_labels)"
      ],
      "metadata": {
        "colab": {
          "base_uri": "https://localhost:8080/"
        },
        "id": "9EyVznfKcRgU",
        "outputId": "2956994d-8b87-46c2-c35b-777cb6a61ad8"
      },
      "execution_count": null,
      "outputs": [
        {
          "output_type": "stream",
          "name": "stdout",
          "text": [
            "\n",
            "MODEL TRAINING:\n",
            "Epoch 1/30\n",
            "1875/1875 [==============================] - 47s 24ms/step - loss: 0.6556 - accuracy: 0.7585\n",
            "Epoch 2/30\n",
            "1875/1875 [==============================] - 46s 25ms/step - loss: 0.4558 - accuracy: 0.8318\n",
            "Epoch 3/30\n",
            "1875/1875 [==============================] - 45s 24ms/step - loss: 0.3954 - accuracy: 0.8542\n",
            "Epoch 4/30\n",
            "1875/1875 [==============================] - 45s 24ms/step - loss: 0.3592 - accuracy: 0.8670\n",
            "Epoch 5/30\n",
            "1875/1875 [==============================] - 45s 24ms/step - loss: 0.3336 - accuracy: 0.8763\n",
            "Epoch 6/30\n",
            "1875/1875 [==============================] - 45s 24ms/step - loss: 0.3136 - accuracy: 0.8838\n",
            "Epoch 7/30\n",
            "1875/1875 [==============================] - 45s 24ms/step - loss: 0.2963 - accuracy: 0.8910\n",
            "Epoch 8/30\n",
            "1875/1875 [==============================] - 45s 24ms/step - loss: 0.2847 - accuracy: 0.8949\n",
            "Epoch 9/30\n",
            "1875/1875 [==============================] - 45s 24ms/step - loss: 0.2687 - accuracy: 0.9006\n",
            "Epoch 10/30\n",
            "1875/1875 [==============================] - 45s 24ms/step - loss: 0.2611 - accuracy: 0.9029\n",
            "Epoch 11/30\n",
            "1875/1875 [==============================] - ETA: 0s - loss: 0.2509 - accuracy: 0.9057\n",
            "Loss is lower than 0.26 so cancelling training!\n",
            "1875/1875 [==============================] - 45s 24ms/step - loss: 0.2509 - accuracy: 0.9057\n",
            "\n",
            "MODEL EVALUATION:\n",
            "313/313 [==============================] - 3s 8ms/step - loss: 0.3309 - accuracy: 0.8846\n"
          ]
        }
      ]
    },
    {
      "cell_type": "markdown",
      "source": [],
      "metadata": {
        "id": "apjpk8pU_I3J"
      }
    },
    {
      "cell_type": "code",
      "source": [
        "# EXERCISE\n",
        "# ===========\n",
        "# 32 convolutions\n",
        "# MODEL EVALUATION:\n",
        "# 313/313 [==============================] - 2s 6ms/step - loss: 0.2527 - accuracy: 0.9064\n",
        "\n",
        "# 1. Try editing the convolutions. Change the 32s to either 16 or 64. What impact will this have on accuracy and/or training time.\n",
        "# 16 = MODEL EVALUATION:\n",
        "# 313/313 [==============================] - 1s 3ms/step - loss: 0.2838 - accuracy: 0.9009\n",
        "# 64 = MODEL EVALUATION:\n",
        "# 313/313 [==============================] - 2s 8ms/step - loss: 0.2589 - accuracy: 0.9068\n",
        "\n",
        "# Not much change in changing convolutions\n",
        "\n",
        "# 2. Remove the final Convolution. What impact will this have on accuracy or training time?\n",
        "# MODEL EVALUATION:\n",
        "# 313/313 [==============================] - 2s 5ms/step - loss: 0.2549 - accuracy: 0.9100\n",
        "# The accuracy has slightly improved in less time\n",
        "\n",
        "# 3. How about adding more Convolutions? What impact do you think this will have? Experiment with it.\n",
        "# More time, but not much impact because I think the input data is not that complex that we need more convolutions to find more distinct features\n",
        "# MODEL EVALUATION:\n",
        "# 313/313 [==============================] - 1s 4ms/step - loss: 0.3587 - accuracy: 0.8708\n",
        "# accuracy has decreased\n",
        "\n",
        "# 4. Remove all Convolutions but the first. What impact do you think this will have? Experiment with it.\n",
        "\n",
        "# 5. In the previous lesson you implemented a callback to check on the loss function and to cancel training once it hit a certain amount. See if you can implement that here.\n",
        "# Implemented with loss threshold less than 26%\n"
      ],
      "metadata": {
        "id": "R2DvhGnY7qkb"
      },
      "execution_count": null,
      "outputs": []
    },
    {
      "cell_type": "code",
      "source": [
        "# Model summary\n",
        "model.summary()"
      ],
      "metadata": {
        "id": "vGeKmNYGdwjV",
        "colab": {
          "base_uri": "https://localhost:8080/"
        },
        "outputId": "f36f4e82-da4f-4f14-ca54-3d6a7e97ea1a"
      },
      "execution_count": null,
      "outputs": [
        {
          "output_type": "stream",
          "name": "stdout",
          "text": [
            "Model: \"sequential_1\"\n",
            "_________________________________________________________________\n",
            " Layer (type)                Output Shape              Param #   \n",
            "=================================================================\n",
            " conv2d (Conv2D)             (None, 26, 26, 32)        320       \n",
            "                                                                 \n",
            " max_pooling2d (MaxPooling2  (None, 13, 13, 32)        0         \n",
            " D)                                                              \n",
            "                                                                 \n",
            " conv2d_1 (Conv2D)           (None, 11, 11, 32)        9248      \n",
            "                                                                 \n",
            " max_pooling2d_1 (MaxPoolin  (None, 5, 5, 32)          0         \n",
            " g2D)                                                            \n",
            "                                                                 \n",
            " flatten_1 (Flatten)         (None, 800)               0         \n",
            "                                                                 \n",
            " dense_2 (Dense)             (None, 128)               102528    \n",
            "                                                                 \n",
            " dense_3 (Dense)             (None, 10)                1290      \n",
            "                                                                 \n",
            "=================================================================\n",
            "Total params: 113386 (442.91 KB)\n",
            "Trainable params: 113386 (442.91 KB)\n",
            "Non-trainable params: 0 (0.00 Byte)\n",
            "_________________________________________________________________\n"
          ]
        }
      ]
    },
    {
      "cell_type": "code",
      "source": [
        "print(test_labels[:100])"
      ],
      "metadata": {
        "colab": {
          "base_uri": "https://localhost:8080/"
        },
        "id": "_ltrb9sxjnAT",
        "outputId": "cfed58bd-d206-44b4-c803-fb3eb7a2b0a3"
      },
      "execution_count": null,
      "outputs": [
        {
          "output_type": "stream",
          "name": "stdout",
          "text": [
            "[9 2 1 1 6 1 4 6 5 7 4 5 7 3 4 1 2 4 8 0 2 5 7 9 1 4 6 0 9 3 8 8 3 3 8 0 7\n",
            " 5 7 9 6 1 3 7 6 7 2 1 2 2 4 4 5 8 2 2 8 4 8 0 7 7 8 5 1 1 2 3 9 8 7 0 2 6\n",
            " 2 3 1 2 8 4 1 8 5 9 5 0 3 2 0 6 5 3 6 7 1 8 0 1 4 2]\n"
          ]
        }
      ]
    },
    {
      "cell_type": "code",
      "source": [
        "# Visualizing convolutions and pooling\n",
        "\n",
        "import matplotlib.pyplot as plt\n",
        "from tensorflow.keras import models\n",
        "\n",
        "f, axarr = plt.subplots(3,4)\n",
        "\n",
        "FIRST_IMAGE=1\n",
        "SECOND_IMAGE=23\n",
        "THIRD_IMAGE=99\n",
        "CONVOLUTION_NUMBER = 1\n",
        "\n",
        "layer_outputs = [layer.output for layer in model.layers]\n",
        "activation_model = tf.keras.models.Model(inputs = model.input, outputs = layer_outputs)\n",
        "\n",
        "for x in range(0,4):\n",
        "  f1 = activation_model.predict(test_images[FIRST_IMAGE].reshape(1, 28, 28, 1))[x]\n",
        "  axarr[0,x].imshow(f1[0, : , :, CONVOLUTION_NUMBER], cmap='inferno')\n",
        "  axarr[0,x].grid(False)\n",
        "\n",
        "  f2 = activation_model.predict(test_images[SECOND_IMAGE].reshape(1, 28, 28, 1))[x]\n",
        "  axarr[1,x].imshow(f2[0, : , :, CONVOLUTION_NUMBER], cmap='inferno')\n",
        "  axarr[1,x].grid(False)\n",
        "\n",
        "  f3 = activation_model.predict(test_images[THIRD_IMAGE].reshape(1, 28, 28, 1))[x]\n",
        "  axarr[2,x].imshow(f3[0, : , :, CONVOLUTION_NUMBER], cmap='inferno')\n",
        "  axarr[2,x].grid(False)"
      ],
      "metadata": {
        "colab": {
          "base_uri": "https://localhost:8080/",
          "height": 640
        },
        "id": "SxobvYtpjvAX",
        "outputId": "2875c9ee-8c6d-44ac-e2e0-3fedb293c84c"
      },
      "execution_count": null,
      "outputs": [
        {
          "output_type": "stream",
          "name": "stdout",
          "text": [
            "1/1 [==============================] - 0s 54ms/step\n",
            "1/1 [==============================] - 0s 14ms/step\n",
            "1/1 [==============================] - 0s 14ms/step\n",
            "1/1 [==============================] - 0s 17ms/step\n",
            "1/1 [==============================] - 0s 14ms/step\n",
            "1/1 [==============================] - 0s 14ms/step\n",
            "1/1 [==============================] - 0s 15ms/step\n",
            "1/1 [==============================] - 0s 14ms/step\n",
            "1/1 [==============================] - 0s 15ms/step\n",
            "1/1 [==============================] - 0s 14ms/step\n",
            "1/1 [==============================] - 0s 14ms/step\n",
            "1/1 [==============================] - 0s 15ms/step\n"
          ]
        },
        {
          "output_type": "display_data",
          "data": {
            "text/plain": [
              "<Figure size 640x480 with 12 Axes>"
            ],
            "image/png": "[encoded data removed]"
          },
          "metadata": {}
        }
      ]
    },
    {
      "cell_type": "code",
      "source": [],
      "metadata": {
        "id": "WZWbwLLajy7J"
      },
      "execution_count": null,
      "outputs": []
    }
  ]
}